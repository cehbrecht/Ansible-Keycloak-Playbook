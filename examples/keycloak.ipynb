{
 "cells": [
  {
   "cell_type": "code",
   "execution_count": 1,
   "metadata": {},
   "outputs": [],
   "source": [
    "import os"
   ]
  },
  {
   "cell_type": "code",
   "execution_count": 2,
   "metadata": {},
   "outputs": [],
   "source": [
    "os.environ['OAUTHLIB_INSECURE_TRANSPORT'] = '1'"
   ]
  },
  {
   "cell_type": "code",
   "execution_count": 3,
   "metadata": {},
   "outputs": [],
   "source": [
    "from oauthlib.oauth2 import BackendApplicationClient\n",
    "from requests_oauthlib import OAuth2Session"
   ]
  },
  {
   "cell_type": "code",
   "execution_count": 9,
   "metadata": {},
   "outputs": [],
   "source": [
    "client_id = 'twitcher'\n",
    "client_secret = '5447e5bd-ae08-4bd9-9759-383177dfbc27'\n",
    "token_url = \"http://localhost:8080/auth/realms/demo/protocol/openid-connect/token\""
   ]
  },
  {
   "cell_type": "code",
   "execution_count": 10,
   "metadata": {},
   "outputs": [],
   "source": [
    "client = BackendApplicationClient(client_id=client_id)"
   ]
  },
  {
   "cell_type": "code",
   "execution_count": 11,
   "metadata": {},
   "outputs": [],
   "source": [
    "oauth = OAuth2Session(client=client)"
   ]
  },
  {
   "cell_type": "code",
   "execution_count": 72,
   "metadata": {},
   "outputs": [
    {
     "data": {
      "text/plain": [
       "{'access_token': 'eyJhbGciOiJSUzI1NiIsInR5cCIgOiAiSldUIiwia2lkIiA6ICJfMUplWkpUaTR5NkxsR2JIeFM0VHNPeHVHS1RScDFQYVlLYlRMMmphTEU4In0.eyJqdGkiOiI3ZDRjNTU5ZC0yZTY1LTRjOWQtOTY1NS0yOTBjMmY5MmU1MDMiLCJleHAiOjE1Njc0Mzg1NDcsIm5iZiI6MCwiaWF0IjoxNTY3NDM4MjQ3LCJpc3MiOiJodHRwOi8vbG9jYWxob3N0OjgwODAvYXV0aC9yZWFsbXMvZGVtbyIsImF1ZCI6ImFjY291bnQiLCJzdWIiOiJhNGUyOTAxYS1jYzU4LTRkZGItYTI5My0xZWIyNGQ0ZGZmMDMiLCJ0eXAiOiJCZWFyZXIiLCJhenAiOiJ0d2l0Y2hlciIsImF1dGhfdGltZSI6MCwic2Vzc2lvbl9zdGF0ZSI6ImU0N2I0NDljLWM3MmQtNDJkOS1hNmJiLTAyOTk1MWNmOTg3YiIsImFjciI6IjEiLCJyZWFsbV9hY2Nlc3MiOnsicm9sZXMiOlsib2ZmbGluZV9hY2Nlc3MiLCJ1bWFfYXV0aG9yaXphdGlvbiJdfSwicmVzb3VyY2VfYWNjZXNzIjp7ImFjY291bnQiOnsicm9sZXMiOlsibWFuYWdlLWFjY291bnQiLCJtYW5hZ2UtYWNjb3VudC1saW5rcyIsInZpZXctcHJvZmlsZSJdfX0sInNjb3BlIjoicHJvZmlsZSBlbWFpbCIsImVtYWlsX3ZlcmlmaWVkIjpmYWxzZSwiY2xpZW50SWQiOiJ0d2l0Y2hlciIsImNsaWVudEhvc3QiOiIxMC4wLjIuMiIsInByZWZlcnJlZF91c2VybmFtZSI6InNlcnZpY2UtYWNjb3VudC10d2l0Y2hlciIsImNsaWVudEFkZHJlc3MiOiIxMC4wLjIuMiIsImVtYWlsIjoic2VydmljZS1hY2NvdW50LXR3aXRjaGVyQHBsYWNlaG9sZGVyLm9yZyJ9.HAV04YpMULc6fOSEC86TFHmKyxWW4_vd4SbJ9gOz23I-h6_KayDJnu_2jf32v2J6kXVMS3y2PG4LgFSeQzGduohZKJKAds_WtsFlwQq6LpnzHlGxkOpe5SvtsdptLDE15mlBIR2YBqwZ8Fx8Hd3EKqmyANJ8cUW9zPLRfyMBHkYCLAW5Jj-rk6ZKspCc8o1_B4n_HjuD5sG1a5WTaU7UYX0l51Sad0CY-Bd7UunCvf8P3QxgNSxJfrEREIWk2IXXYIa0ANKrkXZmXCGhXLHhcNPtBpQUARLPhVEu3A-vE0CVlVld-3SnTsL_GOaRTSbw8n_Kruo9jS9aFJhR4U3Jvw',\n",
       " 'expires_in': 300,\n",
       " 'refresh_expires_in': 1800,\n",
       " 'refresh_token': 'eyJhbGciOiJIUzI1NiIsInR5cCIgOiAiSldUIiwia2lkIiA6ICIzNDZmOTYzNS1hNDMxLTQ3ZGYtOTBiYy04MGZhMDMxMDE5YWMifQ.eyJqdGkiOiIwYzVhMGY2Zi1mMjRjLTRmYmItOTU0MS04NjhjM2NmNjBjM2QiLCJleHAiOjE1Njc0NDAwNDcsIm5iZiI6MCwiaWF0IjoxNTY3NDM4MjQ3LCJpc3MiOiJodHRwOi8vbG9jYWxob3N0OjgwODAvYXV0aC9yZWFsbXMvZGVtbyIsImF1ZCI6Imh0dHA6Ly9sb2NhbGhvc3Q6ODA4MC9hdXRoL3JlYWxtcy9kZW1vIiwic3ViIjoiYTRlMjkwMWEtY2M1OC00ZGRiLWEyOTMtMWViMjRkNGRmZjAzIiwidHlwIjoiUmVmcmVzaCIsImF6cCI6InR3aXRjaGVyIiwiYXV0aF90aW1lIjowLCJzZXNzaW9uX3N0YXRlIjoiZTQ3YjQ0OWMtYzcyZC00MmQ5LWE2YmItMDI5OTUxY2Y5ODdiIiwicmVhbG1fYWNjZXNzIjp7InJvbGVzIjpbIm9mZmxpbmVfYWNjZXNzIiwidW1hX2F1dGhvcml6YXRpb24iXX0sInJlc291cmNlX2FjY2VzcyI6eyJhY2NvdW50Ijp7InJvbGVzIjpbIm1hbmFnZS1hY2NvdW50IiwibWFuYWdlLWFjY291bnQtbGlua3MiLCJ2aWV3LXByb2ZpbGUiXX19LCJzY29wZSI6InByb2ZpbGUgZW1haWwifQ.IMHrTIRn42pivJT4glCpt78zJiBa99ErqKYKp9vzipk',\n",
       " 'token_type': 'bearer',\n",
       " 'not-before-policy': 0,\n",
       " 'session_state': 'e47b449c-c72d-42d9-a6bb-029951cf987b',\n",
       " 'scope': ['profile', 'email'],\n",
       " 'expires_at': 1567438547.631213}"
      ]
     },
     "execution_count": 72,
     "metadata": {},
     "output_type": "execute_result"
    }
   ],
   "source": [
    "token = oauth.fetch_token(\n",
    "    token_url,\n",
    "    client_id=client_id,\n",
    "    client_secret=client_secret,)\n",
    "token"
   ]
  },
  {
   "cell_type": "code",
   "execution_count": 73,
   "metadata": {},
   "outputs": [
    {
     "data": {
      "text/plain": [
       "'eyJhbGciOiJSUzI1NiIsInR5cCIgOiAiSldUIiwia2lkIiA6ICJfMUplWkpUaTR5NkxsR2JIeFM0VHNPeHVHS1RScDFQYVlLYlRMMmphTEU4In0.eyJqdGkiOiI3ZDRjNTU5ZC0yZTY1LTRjOWQtOTY1NS0yOTBjMmY5MmU1MDMiLCJleHAiOjE1Njc0Mzg1NDcsIm5iZiI6MCwiaWF0IjoxNTY3NDM4MjQ3LCJpc3MiOiJodHRwOi8vbG9jYWxob3N0OjgwODAvYXV0aC9yZWFsbXMvZGVtbyIsImF1ZCI6ImFjY291bnQiLCJzdWIiOiJhNGUyOTAxYS1jYzU4LTRkZGItYTI5My0xZWIyNGQ0ZGZmMDMiLCJ0eXAiOiJCZWFyZXIiLCJhenAiOiJ0d2l0Y2hlciIsImF1dGhfdGltZSI6MCwic2Vzc2lvbl9zdGF0ZSI6ImU0N2I0NDljLWM3MmQtNDJkOS1hNmJiLTAyOTk1MWNmOTg3YiIsImFjciI6IjEiLCJyZWFsbV9hY2Nlc3MiOnsicm9sZXMiOlsib2ZmbGluZV9hY2Nlc3MiLCJ1bWFfYXV0aG9yaXphdGlvbiJdfSwicmVzb3VyY2VfYWNjZXNzIjp7ImFjY291bnQiOnsicm9sZXMiOlsibWFuYWdlLWFjY291bnQiLCJtYW5hZ2UtYWNjb3VudC1saW5rcyIsInZpZXctcHJvZmlsZSJdfX0sInNjb3BlIjoicHJvZmlsZSBlbWFpbCIsImVtYWlsX3ZlcmlmaWVkIjpmYWxzZSwiY2xpZW50SWQiOiJ0d2l0Y2hlciIsImNsaWVudEhvc3QiOiIxMC4wLjIuMiIsInByZWZlcnJlZF91c2VybmFtZSI6InNlcnZpY2UtYWNjb3VudC10d2l0Y2hlciIsImNsaWVudEFkZHJlc3MiOiIxMC4wLjIuMiIsImVtYWlsIjoic2VydmljZS1hY2NvdW50LXR3aXRjaGVyQHBsYWNlaG9sZGVyLm9yZyJ9.HAV04YpMULc6fOSEC86TFHmKyxWW4_vd4SbJ9gOz23I-h6_KayDJnu_2jf32v2J6kXVMS3y2PG4LgFSeQzGduohZKJKAds_WtsFlwQq6LpnzHlGxkOpe5SvtsdptLDE15mlBIR2YBqwZ8Fx8Hd3EKqmyANJ8cUW9zPLRfyMBHkYCLAW5Jj-rk6ZKspCc8o1_B4n_HjuD5sG1a5WTaU7UYX0l51Sad0CY-Bd7UunCvf8P3QxgNSxJfrEREIWk2IXXYIa0ANKrkXZmXCGhXLHhcNPtBpQUARLPhVEu3A-vE0CVlVld-3SnTsL_GOaRTSbw8n_Kruo9jS9aFJhR4U3Jvw'"
      ]
     },
     "execution_count": 73,
     "metadata": {},
     "output_type": "execute_result"
    }
   ],
   "source": [
    "token['access_token']"
   ]
  },
  {
   "cell_type": "code",
   "execution_count": 74,
   "metadata": {},
   "outputs": [],
   "source": [
    "import jwt"
   ]
  },
  {
   "cell_type": "code",
   "execution_count": 75,
   "metadata": {},
   "outputs": [],
   "source": [
    "secret = 'MIIBIjANBgkqhkiG9w0BAQEFAAOCAQ8AMIIBCgKCAQEAlXP90zbDUPp5yiJlp3omUbG8buleEPb+5Tz9fBYk4H0NYfESyhCf6JkVn0wTmK9eTs1YiMTWo3pmVcM29FGD2Uqacx1fBTmwls/qYJ+UmoMhIUpP1EJ3kQ7fj6uh95HbXPhX49lZiYTNr/ELAMBGWsId12iNhMi0ubxHCyWoTz9aJ+NHOYJ15IKVddKgrPEnE4b97TEst3qlqOszXuuvvVy+TxkUqG+2ifwqKfL3uoq0J7R+nck8+pJAzX9rPWqa1KFY78kNbBcJfk9S7jtPngZqvUN3q3upyYfyHlWzGWFpoobrib3smVxZLGo6RZebVk+2stkke23p6Z8m7mXW8QIDAQAB'\n",
    "public_key = '-----BEGIN PUBLIC KEY-----\\n{}\\n-----END PUBLIC KEY-----'.format(secret)\n"
   ]
  },
  {
   "cell_type": "code",
   "execution_count": 77,
   "metadata": {},
   "outputs": [
    {
     "data": {
      "text/plain": [
       "{'jti': '7d4c559d-2e65-4c9d-9655-290c2f92e503',\n",
       " 'exp': 1567438547,\n",
       " 'nbf': 0,\n",
       " 'iat': 1567438247,\n",
       " 'iss': 'http://localhost:8080/auth/realms/demo',\n",
       " 'aud': 'account',\n",
       " 'sub': 'a4e2901a-cc58-4ddb-a293-1eb24d4dff03',\n",
       " 'typ': 'Bearer',\n",
       " 'azp': 'twitcher',\n",
       " 'auth_time': 0,\n",
       " 'session_state': 'e47b449c-c72d-42d9-a6bb-029951cf987b',\n",
       " 'acr': '1',\n",
       " 'realm_access': {'roles': ['offline_access', 'uma_authorization']},\n",
       " 'resource_access': {'account': {'roles': ['manage-account',\n",
       "    'manage-account-links',\n",
       "    'view-profile']}},\n",
       " 'scope': 'profile email',\n",
       " 'email_verified': False,\n",
       " 'clientId': 'twitcher',\n",
       " 'clientHost': '10.0.2.2',\n",
       " 'preferred_username': 'service-account-twitcher',\n",
       " 'clientAddress': '10.0.2.2',\n",
       " 'email': 'service-account-twitcher@placeholder.org'}"
      ]
     },
     "execution_count": 77,
     "metadata": {},
     "output_type": "execute_result"
    }
   ],
   "source": [
    "jwt.decode(token['access_token'], public_key, audience='account', verify=True, algorithms=['RS256'])"
   ]
  },
  {
   "cell_type": "code",
   "execution_count": 78,
   "metadata": {},
   "outputs": [],
   "source": [
    "introspect_url = 'http://localhost:8080/auth/realms/demo/protocol/openid-connect/token/introspect'"
   ]
  },
  {
   "cell_type": "code",
   "execution_count": 79,
   "metadata": {},
   "outputs": [],
   "source": [
    "payload = {\n",
    "    'client_secret': client_secret,\n",
    "    'client_id': client_id,\n",
    "    'token': token['access_token']\n",
    "}"
   ]
  },
  {
   "cell_type": "code",
   "execution_count": 80,
   "metadata": {},
   "outputs": [],
   "source": [
    "import requests"
   ]
  },
  {
   "cell_type": "code",
   "execution_count": 81,
   "metadata": {},
   "outputs": [
    {
     "data": {
      "text/plain": [
       "{'jti': '7d4c559d-2e65-4c9d-9655-290c2f92e503',\n",
       " 'exp': 1567438547,\n",
       " 'nbf': 0,\n",
       " 'iat': 1567438247,\n",
       " 'iss': 'http://localhost:8080/auth/realms/demo',\n",
       " 'aud': 'account',\n",
       " 'sub': 'a4e2901a-cc58-4ddb-a293-1eb24d4dff03',\n",
       " 'typ': 'Bearer',\n",
       " 'azp': 'twitcher',\n",
       " 'auth_time': 0,\n",
       " 'session_state': 'e47b449c-c72d-42d9-a6bb-029951cf987b',\n",
       " 'preferred_username': 'service-account-twitcher',\n",
       " 'email': 'service-account-twitcher@placeholder.org',\n",
       " 'email_verified': False,\n",
       " 'acr': '1',\n",
       " 'realm_access': {'roles': ['offline_access', 'uma_authorization']},\n",
       " 'resource_access': {'account': {'roles': ['manage-account',\n",
       "    'manage-account-links',\n",
       "    'view-profile']}},\n",
       " 'scope': 'profile email',\n",
       " 'clientId': 'twitcher',\n",
       " 'clientHost': '10.0.2.2',\n",
       " 'clientAddress': '10.0.2.2',\n",
       " 'client_id': 'twitcher',\n",
       " 'username': 'service-account-twitcher',\n",
       " 'active': True}"
      ]
     },
     "execution_count": 81,
     "metadata": {},
     "output_type": "execute_result"
    }
   ],
   "source": [
    "requests.post(introspect_url, data=payload).json()"
   ]
  },
  {
   "cell_type": "code",
   "execution_count": null,
   "metadata": {},
   "outputs": [],
   "source": []
  }
 ],
 "metadata": {
  "kernelspec": {
   "display_name": "Python 3",
   "language": "python",
   "name": "python3"
  },
  "language_info": {
   "codemirror_mode": {
    "name": "ipython",
    "version": 3
   },
   "file_extension": ".py",
   "mimetype": "text/x-python",
   "name": "python",
   "nbconvert_exporter": "python",
   "pygments_lexer": "ipython3",
   "version": "3.7.4"
  }
 },
 "nbformat": 4,
 "nbformat_minor": 4
}
